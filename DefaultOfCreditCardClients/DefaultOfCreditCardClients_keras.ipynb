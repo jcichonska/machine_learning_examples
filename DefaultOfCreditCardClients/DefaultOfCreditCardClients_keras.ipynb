{
 "cells": [
  {
   "cell_type": "code",
   "execution_count": 1,
   "id": "sought-puzzle",
   "metadata": {},
   "outputs": [],
   "source": [
    "import pandas as pd\n",
    "import numpy as np"
   ]
  },
  {
   "cell_type": "code",
   "execution_count": 2,
   "id": "recorded-northeast",
   "metadata": {},
   "outputs": [],
   "source": [
    "df = pd.read_excel('default of credit card clients.xls', header = 1, index_col='ID')"
   ]
  },
  {
   "cell_type": "code",
   "execution_count": 3,
   "id": "constitutional-center",
   "metadata": {},
   "outputs": [
    {
     "data": {
      "text/html": [
       "<div>\n",
       "<style scoped>\n",
       "    .dataframe tbody tr th:only-of-type {\n",
       "        vertical-align: middle;\n",
       "    }\n",
       "\n",
       "    .dataframe tbody tr th {\n",
       "        vertical-align: top;\n",
       "    }\n",
       "\n",
       "    .dataframe thead th {\n",
       "        text-align: right;\n",
       "    }\n",
       "</style>\n",
       "<table border=\"1\" class=\"dataframe\">\n",
       "  <thead>\n",
       "    <tr style=\"text-align: right;\">\n",
       "      <th></th>\n",
       "      <th>LIMIT_BAL</th>\n",
       "      <th>SEX</th>\n",
       "      <th>EDUCATION</th>\n",
       "      <th>MARRIAGE</th>\n",
       "      <th>AGE</th>\n",
       "      <th>PAY_0</th>\n",
       "      <th>PAY_2</th>\n",
       "      <th>PAY_3</th>\n",
       "      <th>PAY_4</th>\n",
       "      <th>PAY_5</th>\n",
       "      <th>...</th>\n",
       "      <th>BILL_AMT4</th>\n",
       "      <th>BILL_AMT5</th>\n",
       "      <th>BILL_AMT6</th>\n",
       "      <th>PAY_AMT1</th>\n",
       "      <th>PAY_AMT2</th>\n",
       "      <th>PAY_AMT3</th>\n",
       "      <th>PAY_AMT4</th>\n",
       "      <th>PAY_AMT5</th>\n",
       "      <th>PAY_AMT6</th>\n",
       "      <th>default payment next month</th>\n",
       "    </tr>\n",
       "    <tr>\n",
       "      <th>ID</th>\n",
       "      <th></th>\n",
       "      <th></th>\n",
       "      <th></th>\n",
       "      <th></th>\n",
       "      <th></th>\n",
       "      <th></th>\n",
       "      <th></th>\n",
       "      <th></th>\n",
       "      <th></th>\n",
       "      <th></th>\n",
       "      <th></th>\n",
       "      <th></th>\n",
       "      <th></th>\n",
       "      <th></th>\n",
       "      <th></th>\n",
       "      <th></th>\n",
       "      <th></th>\n",
       "      <th></th>\n",
       "      <th></th>\n",
       "      <th></th>\n",
       "      <th></th>\n",
       "    </tr>\n",
       "  </thead>\n",
       "  <tbody>\n",
       "    <tr>\n",
       "      <th>1</th>\n",
       "      <td>20000</td>\n",
       "      <td>2</td>\n",
       "      <td>2</td>\n",
       "      <td>1</td>\n",
       "      <td>24</td>\n",
       "      <td>2</td>\n",
       "      <td>2</td>\n",
       "      <td>-1</td>\n",
       "      <td>-1</td>\n",
       "      <td>-2</td>\n",
       "      <td>...</td>\n",
       "      <td>0</td>\n",
       "      <td>0</td>\n",
       "      <td>0</td>\n",
       "      <td>0</td>\n",
       "      <td>689</td>\n",
       "      <td>0</td>\n",
       "      <td>0</td>\n",
       "      <td>0</td>\n",
       "      <td>0</td>\n",
       "      <td>1</td>\n",
       "    </tr>\n",
       "    <tr>\n",
       "      <th>2</th>\n",
       "      <td>120000</td>\n",
       "      <td>2</td>\n",
       "      <td>2</td>\n",
       "      <td>2</td>\n",
       "      <td>26</td>\n",
       "      <td>-1</td>\n",
       "      <td>2</td>\n",
       "      <td>0</td>\n",
       "      <td>0</td>\n",
       "      <td>0</td>\n",
       "      <td>...</td>\n",
       "      <td>3272</td>\n",
       "      <td>3455</td>\n",
       "      <td>3261</td>\n",
       "      <td>0</td>\n",
       "      <td>1000</td>\n",
       "      <td>1000</td>\n",
       "      <td>1000</td>\n",
       "      <td>0</td>\n",
       "      <td>2000</td>\n",
       "      <td>1</td>\n",
       "    </tr>\n",
       "    <tr>\n",
       "      <th>3</th>\n",
       "      <td>90000</td>\n",
       "      <td>2</td>\n",
       "      <td>2</td>\n",
       "      <td>2</td>\n",
       "      <td>34</td>\n",
       "      <td>0</td>\n",
       "      <td>0</td>\n",
       "      <td>0</td>\n",
       "      <td>0</td>\n",
       "      <td>0</td>\n",
       "      <td>...</td>\n",
       "      <td>14331</td>\n",
       "      <td>14948</td>\n",
       "      <td>15549</td>\n",
       "      <td>1518</td>\n",
       "      <td>1500</td>\n",
       "      <td>1000</td>\n",
       "      <td>1000</td>\n",
       "      <td>1000</td>\n",
       "      <td>5000</td>\n",
       "      <td>0</td>\n",
       "    </tr>\n",
       "    <tr>\n",
       "      <th>4</th>\n",
       "      <td>50000</td>\n",
       "      <td>2</td>\n",
       "      <td>2</td>\n",
       "      <td>1</td>\n",
       "      <td>37</td>\n",
       "      <td>0</td>\n",
       "      <td>0</td>\n",
       "      <td>0</td>\n",
       "      <td>0</td>\n",
       "      <td>0</td>\n",
       "      <td>...</td>\n",
       "      <td>28314</td>\n",
       "      <td>28959</td>\n",
       "      <td>29547</td>\n",
       "      <td>2000</td>\n",
       "      <td>2019</td>\n",
       "      <td>1200</td>\n",
       "      <td>1100</td>\n",
       "      <td>1069</td>\n",
       "      <td>1000</td>\n",
       "      <td>0</td>\n",
       "    </tr>\n",
       "    <tr>\n",
       "      <th>5</th>\n",
       "      <td>50000</td>\n",
       "      <td>1</td>\n",
       "      <td>2</td>\n",
       "      <td>1</td>\n",
       "      <td>57</td>\n",
       "      <td>-1</td>\n",
       "      <td>0</td>\n",
       "      <td>-1</td>\n",
       "      <td>0</td>\n",
       "      <td>0</td>\n",
       "      <td>...</td>\n",
       "      <td>20940</td>\n",
       "      <td>19146</td>\n",
       "      <td>19131</td>\n",
       "      <td>2000</td>\n",
       "      <td>36681</td>\n",
       "      <td>10000</td>\n",
       "      <td>9000</td>\n",
       "      <td>689</td>\n",
       "      <td>679</td>\n",
       "      <td>0</td>\n",
       "    </tr>\n",
       "    <tr>\n",
       "      <th>...</th>\n",
       "      <td>...</td>\n",
       "      <td>...</td>\n",
       "      <td>...</td>\n",
       "      <td>...</td>\n",
       "      <td>...</td>\n",
       "      <td>...</td>\n",
       "      <td>...</td>\n",
       "      <td>...</td>\n",
       "      <td>...</td>\n",
       "      <td>...</td>\n",
       "      <td>...</td>\n",
       "      <td>...</td>\n",
       "      <td>...</td>\n",
       "      <td>...</td>\n",
       "      <td>...</td>\n",
       "      <td>...</td>\n",
       "      <td>...</td>\n",
       "      <td>...</td>\n",
       "      <td>...</td>\n",
       "      <td>...</td>\n",
       "      <td>...</td>\n",
       "    </tr>\n",
       "    <tr>\n",
       "      <th>29996</th>\n",
       "      <td>220000</td>\n",
       "      <td>1</td>\n",
       "      <td>3</td>\n",
       "      <td>1</td>\n",
       "      <td>39</td>\n",
       "      <td>0</td>\n",
       "      <td>0</td>\n",
       "      <td>0</td>\n",
       "      <td>0</td>\n",
       "      <td>0</td>\n",
       "      <td>...</td>\n",
       "      <td>88004</td>\n",
       "      <td>31237</td>\n",
       "      <td>15980</td>\n",
       "      <td>8500</td>\n",
       "      <td>20000</td>\n",
       "      <td>5003</td>\n",
       "      <td>3047</td>\n",
       "      <td>5000</td>\n",
       "      <td>1000</td>\n",
       "      <td>0</td>\n",
       "    </tr>\n",
       "    <tr>\n",
       "      <th>29997</th>\n",
       "      <td>150000</td>\n",
       "      <td>1</td>\n",
       "      <td>3</td>\n",
       "      <td>2</td>\n",
       "      <td>43</td>\n",
       "      <td>-1</td>\n",
       "      <td>-1</td>\n",
       "      <td>-1</td>\n",
       "      <td>-1</td>\n",
       "      <td>0</td>\n",
       "      <td>...</td>\n",
       "      <td>8979</td>\n",
       "      <td>5190</td>\n",
       "      <td>0</td>\n",
       "      <td>1837</td>\n",
       "      <td>3526</td>\n",
       "      <td>8998</td>\n",
       "      <td>129</td>\n",
       "      <td>0</td>\n",
       "      <td>0</td>\n",
       "      <td>0</td>\n",
       "    </tr>\n",
       "    <tr>\n",
       "      <th>29998</th>\n",
       "      <td>30000</td>\n",
       "      <td>1</td>\n",
       "      <td>2</td>\n",
       "      <td>2</td>\n",
       "      <td>37</td>\n",
       "      <td>4</td>\n",
       "      <td>3</td>\n",
       "      <td>2</td>\n",
       "      <td>-1</td>\n",
       "      <td>0</td>\n",
       "      <td>...</td>\n",
       "      <td>20878</td>\n",
       "      <td>20582</td>\n",
       "      <td>19357</td>\n",
       "      <td>0</td>\n",
       "      <td>0</td>\n",
       "      <td>22000</td>\n",
       "      <td>4200</td>\n",
       "      <td>2000</td>\n",
       "      <td>3100</td>\n",
       "      <td>1</td>\n",
       "    </tr>\n",
       "    <tr>\n",
       "      <th>29999</th>\n",
       "      <td>80000</td>\n",
       "      <td>1</td>\n",
       "      <td>3</td>\n",
       "      <td>1</td>\n",
       "      <td>41</td>\n",
       "      <td>1</td>\n",
       "      <td>-1</td>\n",
       "      <td>0</td>\n",
       "      <td>0</td>\n",
       "      <td>0</td>\n",
       "      <td>...</td>\n",
       "      <td>52774</td>\n",
       "      <td>11855</td>\n",
       "      <td>48944</td>\n",
       "      <td>85900</td>\n",
       "      <td>3409</td>\n",
       "      <td>1178</td>\n",
       "      <td>1926</td>\n",
       "      <td>52964</td>\n",
       "      <td>1804</td>\n",
       "      <td>1</td>\n",
       "    </tr>\n",
       "    <tr>\n",
       "      <th>30000</th>\n",
       "      <td>50000</td>\n",
       "      <td>1</td>\n",
       "      <td>2</td>\n",
       "      <td>1</td>\n",
       "      <td>46</td>\n",
       "      <td>0</td>\n",
       "      <td>0</td>\n",
       "      <td>0</td>\n",
       "      <td>0</td>\n",
       "      <td>0</td>\n",
       "      <td>...</td>\n",
       "      <td>36535</td>\n",
       "      <td>32428</td>\n",
       "      <td>15313</td>\n",
       "      <td>2078</td>\n",
       "      <td>1800</td>\n",
       "      <td>1430</td>\n",
       "      <td>1000</td>\n",
       "      <td>1000</td>\n",
       "      <td>1000</td>\n",
       "      <td>1</td>\n",
       "    </tr>\n",
       "  </tbody>\n",
       "</table>\n",
       "<p>30000 rows × 24 columns</p>\n",
       "</div>"
      ],
      "text/plain": [
       "       LIMIT_BAL  SEX  EDUCATION  MARRIAGE  AGE  PAY_0  PAY_2  PAY_3  PAY_4  \\\n",
       "ID                                                                            \n",
       "1          20000    2          2         1   24      2      2     -1     -1   \n",
       "2         120000    2          2         2   26     -1      2      0      0   \n",
       "3          90000    2          2         2   34      0      0      0      0   \n",
       "4          50000    2          2         1   37      0      0      0      0   \n",
       "5          50000    1          2         1   57     -1      0     -1      0   \n",
       "...          ...  ...        ...       ...  ...    ...    ...    ...    ...   \n",
       "29996     220000    1          3         1   39      0      0      0      0   \n",
       "29997     150000    1          3         2   43     -1     -1     -1     -1   \n",
       "29998      30000    1          2         2   37      4      3      2     -1   \n",
       "29999      80000    1          3         1   41      1     -1      0      0   \n",
       "30000      50000    1          2         1   46      0      0      0      0   \n",
       "\n",
       "       PAY_5  ...  BILL_AMT4  BILL_AMT5  BILL_AMT6  PAY_AMT1  PAY_AMT2  \\\n",
       "ID            ...                                                        \n",
       "1         -2  ...          0          0          0         0       689   \n",
       "2          0  ...       3272       3455       3261         0      1000   \n",
       "3          0  ...      14331      14948      15549      1518      1500   \n",
       "4          0  ...      28314      28959      29547      2000      2019   \n",
       "5          0  ...      20940      19146      19131      2000     36681   \n",
       "...      ...  ...        ...        ...        ...       ...       ...   \n",
       "29996      0  ...      88004      31237      15980      8500     20000   \n",
       "29997      0  ...       8979       5190          0      1837      3526   \n",
       "29998      0  ...      20878      20582      19357         0         0   \n",
       "29999      0  ...      52774      11855      48944     85900      3409   \n",
       "30000      0  ...      36535      32428      15313      2078      1800   \n",
       "\n",
       "       PAY_AMT3  PAY_AMT4  PAY_AMT5  PAY_AMT6  default payment next month  \n",
       "ID                                                                         \n",
       "1             0         0         0         0                           1  \n",
       "2          1000      1000         0      2000                           1  \n",
       "3          1000      1000      1000      5000                           0  \n",
       "4          1200      1100      1069      1000                           0  \n",
       "5         10000      9000       689       679                           0  \n",
       "...         ...       ...       ...       ...                         ...  \n",
       "29996      5003      3047      5000      1000                           0  \n",
       "29997      8998       129         0         0                           0  \n",
       "29998     22000      4200      2000      3100                           1  \n",
       "29999      1178      1926     52964      1804                           1  \n",
       "30000      1430      1000      1000      1000                           1  \n",
       "\n",
       "[30000 rows x 24 columns]"
      ]
     },
     "execution_count": 3,
     "metadata": {},
     "output_type": "execute_result"
    }
   ],
   "source": [
    "df"
   ]
  },
  {
   "cell_type": "code",
   "execution_count": 4,
   "id": "resistant-founder",
   "metadata": {},
   "outputs": [
    {
     "name": "stdout",
     "output_type": "stream",
     "text": [
      "<class 'pandas.core.frame.DataFrame'>\n",
      "Int64Index: 30000 entries, 1 to 30000\n",
      "Data columns (total 24 columns):\n",
      " #   Column                      Non-Null Count  Dtype\n",
      "---  ------                      --------------  -----\n",
      " 0   LIMIT_BAL                   30000 non-null  int64\n",
      " 1   SEX                         30000 non-null  int64\n",
      " 2   EDUCATION                   30000 non-null  int64\n",
      " 3   MARRIAGE                    30000 non-null  int64\n",
      " 4   AGE                         30000 non-null  int64\n",
      " 5   PAY_0                       30000 non-null  int64\n",
      " 6   PAY_2                       30000 non-null  int64\n",
      " 7   PAY_3                       30000 non-null  int64\n",
      " 8   PAY_4                       30000 non-null  int64\n",
      " 9   PAY_5                       30000 non-null  int64\n",
      " 10  PAY_6                       30000 non-null  int64\n",
      " 11  BILL_AMT1                   30000 non-null  int64\n",
      " 12  BILL_AMT2                   30000 non-null  int64\n",
      " 13  BILL_AMT3                   30000 non-null  int64\n",
      " 14  BILL_AMT4                   30000 non-null  int64\n",
      " 15  BILL_AMT5                   30000 non-null  int64\n",
      " 16  BILL_AMT6                   30000 non-null  int64\n",
      " 17  PAY_AMT1                    30000 non-null  int64\n",
      " 18  PAY_AMT2                    30000 non-null  int64\n",
      " 19  PAY_AMT3                    30000 non-null  int64\n",
      " 20  PAY_AMT4                    30000 non-null  int64\n",
      " 21  PAY_AMT5                    30000 non-null  int64\n",
      " 22  PAY_AMT6                    30000 non-null  int64\n",
      " 23  default payment next month  30000 non-null  int64\n",
      "dtypes: int64(24)\n",
      "memory usage: 5.7 MB\n"
     ]
    }
   ],
   "source": [
    "df.info()"
   ]
  },
  {
   "cell_type": "code",
   "execution_count": 5,
   "id": "broke-spring",
   "metadata": {},
   "outputs": [
    {
     "data": {
      "text/plain": [
       "default payment next month\n",
       "0                             23364\n",
       "1                              6636\n",
       "dtype: int64"
      ]
     },
     "execution_count": 5,
     "metadata": {},
     "output_type": "execute_result"
    }
   ],
   "source": [
    "df[['default payment next month']].value_counts()"
   ]
  },
  {
   "cell_type": "markdown",
   "id": "blank-michael",
   "metadata": {},
   "source": [
    "# Balancing dataset"
   ]
  },
  {
   "cell_type": "code",
   "execution_count": null,
   "id": "animal-mason",
   "metadata": {},
   "outputs": [],
   "source": [
    "# idx_zeros = list(df.loc[df['default payment next month']==0,].index)\n",
    "# idx_ones = list(df.loc[df['default payment next month']==1,].index)\n",
    "# import random\n",
    "# idx_zeros_new = random.sample(idx_zeros, len(idx_ones))\n",
    "# idx = idx_ones.copy()\n",
    "# idx = idx_ones + idx_zeros_new\n",
    "# X = X.loc[idx]"
   ]
  },
  {
   "cell_type": "code",
   "execution_count": 6,
   "id": "proud-standard",
   "metadata": {},
   "outputs": [],
   "source": [
    "X = df.drop(columns=['default payment next month'])"
   ]
  },
  {
   "cell_type": "code",
   "execution_count": 7,
   "id": "extreme-congress",
   "metadata": {},
   "outputs": [],
   "source": [
    "y = df[['default payment next month']]"
   ]
  },
  {
   "cell_type": "code",
   "execution_count": 12,
   "id": "running-welcome",
   "metadata": {},
   "outputs": [],
   "source": [
    "from sklearn.model_selection import train_test_split"
   ]
  },
  {
   "cell_type": "code",
   "execution_count": 14,
   "id": "posted-grass",
   "metadata": {},
   "outputs": [],
   "source": [
    "X_train, X_test, y_train, y_test = train_test_split(X, y, test_size=0.30, random_state=2015)"
   ]
  },
  {
   "cell_type": "code",
   "execution_count": 15,
   "id": "broke-scholar",
   "metadata": {},
   "outputs": [
    {
     "name": "stdout",
     "output_type": "stream",
     "text": [
      "(21000, 23)\n",
      "(21000, 1)\n",
      "(9000, 23)\n",
      "(9000, 1)\n"
     ]
    }
   ],
   "source": [
    "print(X_train.shape)\n",
    "print(y_train.shape)\n",
    "print(X_test.shape)\n",
    "print(y_test.shape)"
   ]
  },
  {
   "cell_type": "code",
   "execution_count": 16,
   "id": "frank-assurance",
   "metadata": {},
   "outputs": [],
   "source": [
    "from sklearn.preprocessing import MinMaxScaler"
   ]
  },
  {
   "cell_type": "code",
   "execution_count": 17,
   "id": "unique-march",
   "metadata": {},
   "outputs": [],
   "source": [
    "scaler = MinMaxScaler()\n",
    "scaler.fit(X_train)\n",
    "X_train = scaler.transform(X_train)\n",
    "X_test = scaler.transform(X_test)"
   ]
  },
  {
   "cell_type": "code",
   "execution_count": 18,
   "id": "sacred-drill",
   "metadata": {},
   "outputs": [],
   "source": [
    "y_train = np.array(y_train)\n",
    "y_test = np.array(y_test)"
   ]
  },
  {
   "cell_type": "code",
   "execution_count": 39,
   "id": "frequent-convertible",
   "metadata": {},
   "outputs": [],
   "source": [
    "from tensorflow.keras.models import Sequential\n",
    "from tensorflow.keras.layers import Dense, Dropout, BatchNormalization"
   ]
  },
  {
   "cell_type": "code",
   "execution_count": 104,
   "id": "authorized-motivation",
   "metadata": {},
   "outputs": [],
   "source": [
    "model = Sequential()\n",
    "model.add(Dense(32, input_shape=(23,), activation = 'relu'))\n",
    "model.add(BatchNormalization())\n",
    "model.add(Dense(64, activation = 'relu'))\n",
    "model.add(BatchNormalization())\n",
    "model.add(Dense(128, activation = 'relu'))\n",
    "model.add(BatchNormalization())\n",
    "model.add(Dense(128, activation = 'relu'))\n",
    "model.add(BatchNormalization())\n",
    "model.add(Dense(64, activation = 'relu'))\n",
    "model.add(Dropout(0.3))\n",
    "model.add(Dense(2, activation = 'sigmoid'))"
   ]
  },
  {
   "cell_type": "code",
   "execution_count": 105,
   "id": "stuffed-acceptance",
   "metadata": {},
   "outputs": [
    {
     "name": "stdout",
     "output_type": "stream",
     "text": [
      "Model: \"sequential_11\"\n",
      "_________________________________________________________________\n",
      "Layer (type)                 Output Shape              Param #   \n",
      "=================================================================\n",
      "dense_63 (Dense)             (None, 32)                768       \n",
      "_________________________________________________________________\n",
      "batch_normalization_33 (Batc (None, 32)                128       \n",
      "_________________________________________________________________\n",
      "dense_64 (Dense)             (None, 64)                2112      \n",
      "_________________________________________________________________\n",
      "batch_normalization_34 (Batc (None, 64)                256       \n",
      "_________________________________________________________________\n",
      "dense_65 (Dense)             (None, 128)               8320      \n",
      "_________________________________________________________________\n",
      "batch_normalization_35 (Batc (None, 128)               512       \n",
      "_________________________________________________________________\n",
      "dense_66 (Dense)             (None, 128)               16512     \n",
      "_________________________________________________________________\n",
      "batch_normalization_36 (Batc (None, 128)               512       \n",
      "_________________________________________________________________\n",
      "dense_67 (Dense)             (None, 64)                8256      \n",
      "_________________________________________________________________\n",
      "dropout_11 (Dropout)         (None, 64)                0         \n",
      "_________________________________________________________________\n",
      "dense_68 (Dense)             (None, 2)                 130       \n",
      "=================================================================\n",
      "Total params: 37,506\n",
      "Trainable params: 36,802\n",
      "Non-trainable params: 704\n",
      "_________________________________________________________________\n"
     ]
    }
   ],
   "source": [
    "model.summary()"
   ]
  },
  {
   "cell_type": "code",
   "execution_count": 106,
   "id": "latin-kentucky",
   "metadata": {},
   "outputs": [],
   "source": [
    "from tensorflow.keras.metrics import Accuracy, FalseNegatives\n",
    "from tensorflow.keras.optimizers import Adam\n",
    "from tensorflow.keras.losses import SparseCategoricalCrossentropy\n",
    "from tensorflow.keras.callbacks import EarlyStopping"
   ]
  },
  {
   "cell_type": "code",
   "execution_count": 107,
   "id": "adolescent-rebate",
   "metadata": {},
   "outputs": [],
   "source": [
    "model.compile(optimizer='adam', loss='sparse_categorical_crossentropy' ,metrics=['accuracy'])"
   ]
  },
  {
   "cell_type": "code",
   "execution_count": 108,
   "id": "surprised-orbit",
   "metadata": {},
   "outputs": [],
   "source": [
    "#callback = EarlyStopping(monitor='loss', patience=4)"
   ]
  },
  {
   "cell_type": "code",
   "execution_count": 109,
   "id": "optical-median",
   "metadata": {},
   "outputs": [
    {
     "name": "stdout",
     "output_type": "stream",
     "text": [
      "Train on 14699 samples, validate on 6301 samples\n",
      "Epoch 1/100\n",
      "14699/14699 - 4s - loss: 0.5108 - accuracy: 0.7866 - val_loss: 0.4584 - val_accuracy: 0.8165\n",
      "Epoch 2/100\n",
      "14699/14699 - 2s - loss: 0.4783 - accuracy: 0.7999 - val_loss: 0.4467 - val_accuracy: 0.8140\n",
      "Epoch 3/100\n",
      "14699/14699 - 2s - loss: 0.4702 - accuracy: 0.8039 - val_loss: 0.4402 - val_accuracy: 0.8184\n",
      "Epoch 4/100\n",
      "14699/14699 - 3s - loss: 0.4624 - accuracy: 0.8040 - val_loss: 0.4365 - val_accuracy: 0.8227\n",
      "Epoch 5/100\n",
      "14699/14699 - 3s - loss: 0.4613 - accuracy: 0.8086 - val_loss: 0.4410 - val_accuracy: 0.8181\n",
      "Epoch 6/100\n",
      "14699/14699 - 3s - loss: 0.4601 - accuracy: 0.8056 - val_loss: 0.4372 - val_accuracy: 0.8127\n",
      "Epoch 7/100\n",
      "14699/14699 - 4s - loss: 0.4542 - accuracy: 0.8081 - val_loss: 0.4327 - val_accuracy: 0.8199\n",
      "Epoch 8/100\n",
      "14699/14699 - 3s - loss: 0.4547 - accuracy: 0.8082 - val_loss: 0.4354 - val_accuracy: 0.8243\n",
      "Epoch 9/100\n",
      "14699/14699 - 3s - loss: 0.4540 - accuracy: 0.8061 - val_loss: 0.4359 - val_accuracy: 0.8199\n",
      "Epoch 10/100\n",
      "14699/14699 - 3s - loss: 0.4495 - accuracy: 0.8119 - val_loss: 0.4398 - val_accuracy: 0.8226\n",
      "Epoch 11/100\n",
      "14699/14699 - 3s - loss: 0.4498 - accuracy: 0.8112 - val_loss: 0.4358 - val_accuracy: 0.8202\n",
      "Epoch 12/100\n",
      "14699/14699 - 3s - loss: 0.4469 - accuracy: 0.8110 - val_loss: 0.4323 - val_accuracy: 0.8245\n",
      "Epoch 13/100\n",
      "14699/14699 - 3s - loss: 0.4490 - accuracy: 0.8113 - val_loss: 0.4297 - val_accuracy: 0.8259\n",
      "Epoch 14/100\n",
      "14699/14699 - 3s - loss: 0.4451 - accuracy: 0.8109 - val_loss: 0.4281 - val_accuracy: 0.8251\n",
      "Epoch 15/100\n",
      "14699/14699 - 4s - loss: 0.4452 - accuracy: 0.8134 - val_loss: 0.4296 - val_accuracy: 0.8218\n",
      "Epoch 16/100\n",
      "14699/14699 - 4s - loss: 0.4486 - accuracy: 0.8116 - val_loss: 0.4298 - val_accuracy: 0.8240\n",
      "Epoch 17/100\n",
      "14699/14699 - 4s - loss: 0.4444 - accuracy: 0.8124 - val_loss: 0.4344 - val_accuracy: 0.8143\n",
      "Epoch 18/100\n",
      "14699/14699 - 4s - loss: 0.4433 - accuracy: 0.8137 - val_loss: 0.4377 - val_accuracy: 0.8145\n",
      "Epoch 19/100\n",
      "14699/14699 - 5s - loss: 0.4417 - accuracy: 0.8153 - val_loss: 0.4335 - val_accuracy: 0.8262\n",
      "Epoch 20/100\n",
      "14699/14699 - 4s - loss: 0.4420 - accuracy: 0.8126 - val_loss: 0.4294 - val_accuracy: 0.8243\n",
      "Epoch 21/100\n",
      "14699/14699 - 4s - loss: 0.4410 - accuracy: 0.8156 - val_loss: 0.4314 - val_accuracy: 0.8169\n",
      "Epoch 22/100\n",
      "14699/14699 - 4s - loss: 0.4399 - accuracy: 0.8154 - val_loss: 0.4351 - val_accuracy: 0.8208\n",
      "Epoch 23/100\n",
      "14699/14699 - 3s - loss: 0.4382 - accuracy: 0.8154 - val_loss: 0.4358 - val_accuracy: 0.8173\n",
      "Epoch 24/100\n",
      "14699/14699 - 3s - loss: 0.4391 - accuracy: 0.8153 - val_loss: 0.4345 - val_accuracy: 0.8229\n",
      "Epoch 25/100\n",
      "14699/14699 - 3s - loss: 0.4380 - accuracy: 0.8136 - val_loss: 0.4308 - val_accuracy: 0.8210\n",
      "Epoch 26/100\n",
      "14699/14699 - 3s - loss: 0.4379 - accuracy: 0.8160 - val_loss: 0.4319 - val_accuracy: 0.8249\n",
      "Epoch 27/100\n",
      "14699/14699 - 3s - loss: 0.4374 - accuracy: 0.8167 - val_loss: 0.4334 - val_accuracy: 0.8234\n",
      "Epoch 28/100\n",
      "14699/14699 - 3s - loss: 0.4380 - accuracy: 0.8144 - val_loss: 0.4296 - val_accuracy: 0.8237\n",
      "Epoch 29/100\n",
      "14699/14699 - 3s - loss: 0.4388 - accuracy: 0.8169 - val_loss: 0.4275 - val_accuracy: 0.8226\n",
      "Epoch 30/100\n",
      "14699/14699 - 3s - loss: 0.4350 - accuracy: 0.8158 - val_loss: 0.4295 - val_accuracy: 0.8235\n",
      "Epoch 31/100\n",
      "14699/14699 - 3s - loss: 0.4354 - accuracy: 0.8152 - val_loss: 0.4315 - val_accuracy: 0.8192\n",
      "Epoch 32/100\n",
      "14699/14699 - 3s - loss: 0.4372 - accuracy: 0.8166 - val_loss: 0.4336 - val_accuracy: 0.8224\n",
      "Epoch 33/100\n",
      "14699/14699 - 3s - loss: 0.4344 - accuracy: 0.8162 - val_loss: 0.4322 - val_accuracy: 0.8245\n",
      "Epoch 34/100\n",
      "14699/14699 - 3s - loss: 0.4332 - accuracy: 0.8153 - val_loss: 0.4319 - val_accuracy: 0.8216\n",
      "Epoch 35/100\n",
      "14699/14699 - 3s - loss: 0.4337 - accuracy: 0.8181 - val_loss: 0.4318 - val_accuracy: 0.8218\n",
      "Epoch 36/100\n",
      "14699/14699 - 3s - loss: 0.4330 - accuracy: 0.8150 - val_loss: 0.4296 - val_accuracy: 0.8240\n",
      "Epoch 37/100\n",
      "14699/14699 - 3s - loss: 0.4318 - accuracy: 0.8171 - val_loss: 0.4342 - val_accuracy: 0.8240\n",
      "Epoch 38/100\n",
      "14699/14699 - 3s - loss: 0.4337 - accuracy: 0.8174 - val_loss: 0.4316 - val_accuracy: 0.8197\n",
      "Epoch 39/100\n",
      "14699/14699 - 3s - loss: 0.4315 - accuracy: 0.8175 - val_loss: 0.4312 - val_accuracy: 0.8219\n",
      "Epoch 40/100\n",
      "14699/14699 - 3s - loss: 0.4317 - accuracy: 0.8165 - val_loss: 0.4323 - val_accuracy: 0.8245\n",
      "Epoch 41/100\n",
      "14699/14699 - 3s - loss: 0.4307 - accuracy: 0.8181 - val_loss: 0.4284 - val_accuracy: 0.8218\n",
      "Epoch 42/100\n",
      "14699/14699 - 3s - loss: 0.4309 - accuracy: 0.8182 - val_loss: 0.4321 - val_accuracy: 0.8200\n",
      "Epoch 43/100\n",
      "14699/14699 - 3s - loss: 0.4330 - accuracy: 0.8156 - val_loss: 0.4289 - val_accuracy: 0.8240\n",
      "Epoch 44/100\n",
      "14699/14699 - 3s - loss: 0.4295 - accuracy: 0.8160 - val_loss: 0.4311 - val_accuracy: 0.8232\n",
      "Epoch 45/100\n",
      "14699/14699 - 3s - loss: 0.4292 - accuracy: 0.8163 - val_loss: 0.4317 - val_accuracy: 0.8216\n",
      "Epoch 46/100\n",
      "14699/14699 - 3s - loss: 0.4285 - accuracy: 0.8156 - val_loss: 0.4329 - val_accuracy: 0.8246\n",
      "Epoch 47/100\n",
      "14699/14699 - 3s - loss: 0.4301 - accuracy: 0.8179 - val_loss: 0.4353 - val_accuracy: 0.8223\n",
      "Epoch 48/100\n",
      "14699/14699 - 3s - loss: 0.4298 - accuracy: 0.8182 - val_loss: 0.4292 - val_accuracy: 0.8213\n",
      "Epoch 49/100\n",
      "14699/14699 - 3s - loss: 0.4296 - accuracy: 0.8174 - val_loss: 0.4335 - val_accuracy: 0.8189\n",
      "Epoch 50/100\n",
      "14699/14699 - 3s - loss: 0.4263 - accuracy: 0.8201 - val_loss: 0.4273 - val_accuracy: 0.8253\n",
      "Epoch 51/100\n",
      "14699/14699 - 3s - loss: 0.4293 - accuracy: 0.8176 - val_loss: 0.4332 - val_accuracy: 0.8235\n",
      "Epoch 52/100\n",
      "14699/14699 - 3s - loss: 0.4260 - accuracy: 0.8201 - val_loss: 0.4313 - val_accuracy: 0.8208\n",
      "Epoch 53/100\n",
      "14699/14699 - 3s - loss: 0.4247 - accuracy: 0.8207 - val_loss: 0.4368 - val_accuracy: 0.8178\n",
      "Epoch 54/100\n",
      "14699/14699 - 3s - loss: 0.4243 - accuracy: 0.8194 - val_loss: 0.4363 - val_accuracy: 0.8202\n",
      "Epoch 55/100\n",
      "14699/14699 - 3s - loss: 0.4255 - accuracy: 0.8188 - val_loss: 0.4326 - val_accuracy: 0.8224\n",
      "Epoch 56/100\n",
      "14699/14699 - 3s - loss: 0.4253 - accuracy: 0.8194 - val_loss: 0.4382 - val_accuracy: 0.8145\n",
      "Epoch 57/100\n",
      "14699/14699 - 3s - loss: 0.4278 - accuracy: 0.8183 - val_loss: 0.4325 - val_accuracy: 0.8242\n",
      "Epoch 58/100\n",
      "14699/14699 - 3s - loss: 0.4264 - accuracy: 0.8187 - val_loss: 0.4323 - val_accuracy: 0.8237\n",
      "Epoch 59/100\n",
      "14699/14699 - 3s - loss: 0.4245 - accuracy: 0.8199 - val_loss: 0.4302 - val_accuracy: 0.8218\n",
      "Epoch 60/100\n",
      "14699/14699 - 3s - loss: 0.4257 - accuracy: 0.8176 - val_loss: 0.4320 - val_accuracy: 0.8194\n",
      "Epoch 61/100\n",
      "14699/14699 - 3s - loss: 0.4259 - accuracy: 0.8199 - val_loss: 0.4316 - val_accuracy: 0.8215\n",
      "Epoch 62/100\n",
      "14699/14699 - 3s - loss: 0.4253 - accuracy: 0.8175 - val_loss: 0.4355 - val_accuracy: 0.8199\n",
      "Epoch 63/100\n",
      "14699/14699 - 3s - loss: 0.4223 - accuracy: 0.8215 - val_loss: 0.4325 - val_accuracy: 0.8207\n",
      "Epoch 64/100\n",
      "14699/14699 - 3s - loss: 0.4233 - accuracy: 0.8198 - val_loss: 0.4344 - val_accuracy: 0.8245\n",
      "Epoch 65/100\n",
      "14699/14699 - 3s - loss: 0.4234 - accuracy: 0.8184 - val_loss: 0.4384 - val_accuracy: 0.8183\n",
      "Epoch 66/100\n",
      "14699/14699 - 3s - loss: 0.4213 - accuracy: 0.8192 - val_loss: 0.4335 - val_accuracy: 0.8223\n",
      "Epoch 67/100\n",
      "14699/14699 - 3s - loss: 0.4232 - accuracy: 0.8209 - val_loss: 0.4380 - val_accuracy: 0.8232\n",
      "Epoch 68/100\n",
      "14699/14699 - 3s - loss: 0.4232 - accuracy: 0.8200 - val_loss: 0.4365 - val_accuracy: 0.8192\n",
      "Epoch 69/100\n",
      "14699/14699 - 4s - loss: 0.4256 - accuracy: 0.8187 - val_loss: 0.4364 - val_accuracy: 0.8181\n",
      "Epoch 70/100\n",
      "14699/14699 - 3s - loss: 0.4192 - accuracy: 0.8190 - val_loss: 0.4324 - val_accuracy: 0.8200\n",
      "Epoch 71/100\n",
      "14699/14699 - 3s - loss: 0.4232 - accuracy: 0.8208 - val_loss: 0.4300 - val_accuracy: 0.8215\n",
      "Epoch 72/100\n",
      "14699/14699 - 3s - loss: 0.4216 - accuracy: 0.8201 - val_loss: 0.4348 - val_accuracy: 0.8213\n",
      "Epoch 73/100\n",
      "14699/14699 - 3s - loss: 0.4208 - accuracy: 0.8216 - val_loss: 0.4347 - val_accuracy: 0.8194\n",
      "Epoch 74/100\n",
      "14699/14699 - 3s - loss: 0.4206 - accuracy: 0.8199 - val_loss: 0.4391 - val_accuracy: 0.8203\n",
      "Epoch 75/100\n",
      "14699/14699 - 4s - loss: 0.4215 - accuracy: 0.8198 - val_loss: 0.4350 - val_accuracy: 0.8194\n",
      "Epoch 76/100\n",
      "14699/14699 - 4s - loss: 0.4183 - accuracy: 0.8214 - val_loss: 0.4369 - val_accuracy: 0.8207\n",
      "Epoch 77/100\n",
      "14699/14699 - 3s - loss: 0.4189 - accuracy: 0.8199 - val_loss: 0.4403 - val_accuracy: 0.8208\n"
     ]
    },
    {
     "name": "stdout",
     "output_type": "stream",
     "text": [
      "Epoch 78/100\n",
      "14699/14699 - 3s - loss: 0.4204 - accuracy: 0.8197 - val_loss: 0.4406 - val_accuracy: 0.8196\n",
      "Epoch 79/100\n",
      "14699/14699 - 3s - loss: 0.4193 - accuracy: 0.8196 - val_loss: 0.4342 - val_accuracy: 0.8199\n",
      "Epoch 80/100\n",
      "14699/14699 - 3s - loss: 0.4177 - accuracy: 0.8214 - val_loss: 0.4421 - val_accuracy: 0.8162\n",
      "Epoch 81/100\n",
      "14699/14699 - 3s - loss: 0.4186 - accuracy: 0.8207 - val_loss: 0.4334 - val_accuracy: 0.8183\n",
      "Epoch 82/100\n",
      "14699/14699 - 3s - loss: 0.4177 - accuracy: 0.8205 - val_loss: 0.4414 - val_accuracy: 0.8189\n",
      "Epoch 83/100\n",
      "14699/14699 - 3s - loss: 0.4191 - accuracy: 0.8199 - val_loss: 0.4401 - val_accuracy: 0.8197\n",
      "Epoch 84/100\n",
      "14699/14699 - 3s - loss: 0.4188 - accuracy: 0.8213 - val_loss: 0.4424 - val_accuracy: 0.8192\n",
      "Epoch 85/100\n",
      "14699/14699 - 3s - loss: 0.4162 - accuracy: 0.8248 - val_loss: 0.4391 - val_accuracy: 0.8218\n",
      "Epoch 86/100\n",
      "14699/14699 - 4s - loss: 0.4168 - accuracy: 0.8220 - val_loss: 0.4475 - val_accuracy: 0.8169\n",
      "Epoch 87/100\n",
      "14699/14699 - 3s - loss: 0.4165 - accuracy: 0.8238 - val_loss: 0.4372 - val_accuracy: 0.8211\n",
      "Epoch 88/100\n",
      "14699/14699 - 3s - loss: 0.4188 - accuracy: 0.8196 - val_loss: 0.4416 - val_accuracy: 0.8192\n",
      "Epoch 89/100\n",
      "14699/14699 - 3s - loss: 0.4153 - accuracy: 0.8223 - val_loss: 0.4358 - val_accuracy: 0.8207\n",
      "Epoch 90/100\n",
      "14699/14699 - 3s - loss: 0.4148 - accuracy: 0.8219 - val_loss: 0.4398 - val_accuracy: 0.8221\n",
      "Epoch 91/100\n",
      "14699/14699 - 3s - loss: 0.4150 - accuracy: 0.8216 - val_loss: 0.4433 - val_accuracy: 0.8175\n",
      "Epoch 92/100\n",
      "14699/14699 - 3s - loss: 0.4187 - accuracy: 0.8213 - val_loss: 0.4438 - val_accuracy: 0.8224\n",
      "Epoch 93/100\n",
      "14699/14699 - 4s - loss: 0.4164 - accuracy: 0.8239 - val_loss: 0.4394 - val_accuracy: 0.8227\n",
      "Epoch 94/100\n",
      "14699/14699 - 3s - loss: 0.4162 - accuracy: 0.8221 - val_loss: 0.4388 - val_accuracy: 0.8192\n",
      "Epoch 95/100\n",
      "14699/14699 - 3s - loss: 0.4148 - accuracy: 0.8220 - val_loss: 0.4415 - val_accuracy: 0.8191\n",
      "Epoch 96/100\n",
      "14699/14699 - 3s - loss: 0.4149 - accuracy: 0.8230 - val_loss: 0.4429 - val_accuracy: 0.8203\n",
      "Epoch 97/100\n",
      "14699/14699 - 3s - loss: 0.4183 - accuracy: 0.8201 - val_loss: 0.4401 - val_accuracy: 0.8253\n",
      "Epoch 98/100\n",
      "14699/14699 - 3s - loss: 0.4158 - accuracy: 0.8239 - val_loss: 0.4378 - val_accuracy: 0.8183\n",
      "Epoch 99/100\n",
      "14699/14699 - 3s - loss: 0.4134 - accuracy: 0.8237 - val_loss: 0.4412 - val_accuracy: 0.8178\n",
      "Epoch 100/100\n",
      "14699/14699 - 3s - loss: 0.4126 - accuracy: 0.8249 - val_loss: 0.4485 - val_accuracy: 0.8181\n"
     ]
    },
    {
     "data": {
      "text/plain": [
       "<tensorflow.python.keras.callbacks.History at 0x20411617550>"
      ]
     },
     "execution_count": 109,
     "metadata": {},
     "output_type": "execute_result"
    }
   ],
   "source": [
    "model.fit( \n",
    "    x=X_train,\n",
    "    y=y_train,\n",
    "    batch_size=16,\n",
    "    epochs=100,\n",
    "    verbose=2,\n",
    "    #callbacks=[callback],\n",
    "    validation_split=0.3,\n",
    "    shuffle=True)"
   ]
  },
  {
   "cell_type": "code",
   "execution_count": 111,
   "id": "further-safety",
   "metadata": {},
   "outputs": [
    {
     "name": "stdout",
     "output_type": "stream",
     "text": [
      "9000/9000 [==============================] - 0s 33us/sample - loss: 0.4570 - accuracy: 0.8142\n"
     ]
    },
    {
     "data": {
      "text/plain": [
       "[0.45701689415507846, 0.8142222]"
      ]
     },
     "execution_count": 111,
     "metadata": {},
     "output_type": "execute_result"
    }
   ],
   "source": [
    "model.evaluate(X_test, y_test)"
   ]
  },
  {
   "cell_type": "code",
   "execution_count": 112,
   "id": "strange-layout",
   "metadata": {},
   "outputs": [
    {
     "data": {
      "text/plain": [
       "dict_keys(['loss', 'accuracy', 'val_loss', 'val_accuracy'])"
      ]
     },
     "execution_count": 112,
     "metadata": {},
     "output_type": "execute_result"
    }
   ],
   "source": [
    "model.history.history.keys()"
   ]
  },
  {
   "cell_type": "code",
   "execution_count": 113,
   "id": "piano-ordinary",
   "metadata": {},
   "outputs": [
    {
     "data": {
      "text/plain": [
       "[<matplotlib.lines.Line2D at 0x204065912b0>]"
      ]
     },
     "execution_count": 113,
     "metadata": {},
     "output_type": "execute_result"
    },
    {
     "data": {
      "image/png": "[encoded data removed]",
      "text/plain": [
       "<Figure size 432x288 with 1 Axes>"
      ]
     },
     "metadata": {
      "needs_background": "light"
     },
     "output_type": "display_data"
    }
   ],
   "source": [
    "import matplotlib.pyplot as plt\n",
    "plt.plot(model.history.history['accuracy'], label = 'accuracy')\n",
    "plt.plot(model.history.history['val_accuracy'], label = 'val_accuracy')"
   ]
  },
  {
   "cell_type": "code",
   "execution_count": 114,
   "id": "crucial-bosnia",
   "metadata": {},
   "outputs": [
    {
     "name": "stdout",
     "output_type": "stream",
     "text": [
      "(9000, 2)\n"
     ]
    }
   ],
   "source": [
    "y_pred = model.predict(X_test)\n",
    "print(y_pred.shape)"
   ]
  },
  {
   "cell_type": "code",
   "execution_count": 115,
   "id": "confirmed-microwave",
   "metadata": {},
   "outputs": [
    {
     "name": "stdout",
     "output_type": "stream",
     "text": [
      "(9000,)\n"
     ]
    }
   ],
   "source": [
    "y_pred = np.argmax(y_pred, axis = 1)\n",
    "print(y_pred.shape)"
   ]
  },
  {
   "cell_type": "code",
   "execution_count": 116,
   "id": "flush-conversation",
   "metadata": {},
   "outputs": [
    {
     "name": "stdout",
     "output_type": "stream",
     "text": [
      "[[6640  419]\n",
      " [1253  688]]\n"
     ]
    }
   ],
   "source": [
    "from sklearn.metrics import confusion_matrix\n",
    "\n",
    "print(confusion_matrix(y_test, y_pred))"
   ]
  },
  {
   "cell_type": "code",
   "execution_count": null,
   "id": "democratic-priority",
   "metadata": {},
   "outputs": [],
   "source": []
  }
 ],
 "metadata": {
  "kernelspec": {
   "display_name": "tf",
   "language": "python",
   "name": "tf"
  },
  "language_info": {
   "codemirror_mode": {
    "name": "ipython",
    "version": 3
   },
   "file_extension": ".py",
   "mimetype": "text/x-python",
   "name": "python",
   "nbconvert_exporter": "python",
   "pygments_lexer": "ipython3",
   "version": "3.6.13"
  },
  "toc": {
   "base_numbering": 1,
   "nav_menu": {},
   "number_sections": true,
   "sideBar": true,
   "skip_h1_title": true,
   "title_cell": "Table of Contents",
   "title_sidebar": "Contents",
   "toc_cell": false,
   "toc_position": {},
   "toc_section_display": true,
   "toc_window_display": false
  }
 },
 "nbformat": 4,
 "nbformat_minor": 5
}
