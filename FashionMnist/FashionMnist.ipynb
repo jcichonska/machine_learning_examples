{
 "cells": [
  {
   "cell_type": "markdown",
   "id": "macro-pepper",
   "metadata": {},
   "source": [
    "# Fashion MNIST classification"
   ]
  },
  {
   "cell_type": "markdown",
   "id": "agreed-license",
   "metadata": {},
   "source": [
    "## Libraries"
   ]
  },
  {
   "cell_type": "code",
   "execution_count": 31,
   "id": "prompt-advertising",
   "metadata": {},
   "outputs": [],
   "source": [
    "from tensorflow.keras.datasets import fashion_mnist\n",
    "import pandas as pd\n",
    "import numpy as np\n",
    "import matplotlib.pyplot as plt"
   ]
  },
  {
   "cell_type": "code",
   "execution_count": 65,
   "id": "suitable-commercial",
   "metadata": {},
   "outputs": [],
   "source": [
    "from tensorflow.keras.models import Sequential\n",
    "from tensorflow.keras.layers import Input, Dense, Flatten, Conv2D, MaxPooling2D, Dropout\n",
    "from tensorflow.keras.callbacks import EarlyStopping"
   ]
  },
  {
   "cell_type": "markdown",
   "id": "enhanced-canal",
   "metadata": {},
   "source": [
    "## Dataset loading"
   ]
  },
  {
   "cell_type": "code",
   "execution_count": 94,
   "id": "tracked-respondent",
   "metadata": {},
   "outputs": [],
   "source": [
    "(x_train, y_train), (x_test, y_test) = fashion_mnist.load_data()"
   ]
  },
  {
   "cell_type": "code",
   "execution_count": 72,
   "id": "floral-mozambique",
   "metadata": {},
   "outputs": [
    {
     "name": "stdout",
     "output_type": "stream",
     "text": [
      "(60000, 28, 28)\n",
      "(10000, 28, 28)\n",
      "(60000,)\n",
      "(10000,)\n"
     ]
    }
   ],
   "source": [
    "print(x_train.shape)\n",
    "print(x_test.shape)\n",
    "print(y_train.shape)\n",
    "print(y_test.shape)"
   ]
  },
  {
   "cell_type": "code",
   "execution_count": 24,
   "id": "therapeutic-sharp",
   "metadata": {},
   "outputs": [
    {
     "data": {
      "text/plain": [
       "9    6000\n",
       "8    6000\n",
       "7    6000\n",
       "6    6000\n",
       "5    6000\n",
       "4    6000\n",
       "3    6000\n",
       "2    6000\n",
       "1    6000\n",
       "0    6000\n",
       "dtype: int64"
      ]
     },
     "execution_count": 24,
     "metadata": {},
     "output_type": "execute_result"
    }
   ],
   "source": [
    "pd.Series(y_train).value_counts()"
   ]
  },
  {
   "cell_type": "markdown",
   "id": "minus-viewer",
   "metadata": {},
   "source": [
    "## Scaling"
   ]
  },
  {
   "cell_type": "code",
   "execution_count": 76,
   "id": "finite-light",
   "metadata": {},
   "outputs": [],
   "source": [
    "x_train = x_train/255\n",
    "x_test = x_test/255"
   ]
  },
  {
   "cell_type": "markdown",
   "id": "warming-lincoln",
   "metadata": {},
   "source": [
    "## ANN with Keras"
   ]
  },
  {
   "cell_type": "code",
   "execution_count": 43,
   "id": "daily-toyota",
   "metadata": {},
   "outputs": [],
   "source": [
    "model = Sequential()"
   ]
  },
  {
   "cell_type": "code",
   "execution_count": 44,
   "id": "adjusted-african",
   "metadata": {},
   "outputs": [],
   "source": [
    "model.add(Flatten(input_shape = (28,28)))\n",
    "model.add(Dense(units = 256, activation = 'relu'))\n",
    "model.add(Dense(units = 64, activation = 'relu'))\n",
    "model.add(Dense(10, activation='softmax'))"
   ]
  },
  {
   "cell_type": "code",
   "execution_count": 45,
   "id": "undefined-boards",
   "metadata": {},
   "outputs": [],
   "source": [
    "model.compile(optimizer='adam',\n",
    "             loss = 'sparse_categorical_crossentropy',\n",
    "             metrics=['accuracy'])"
   ]
  },
  {
   "cell_type": "code",
   "execution_count": 78,
   "id": "competent-information",
   "metadata": {},
   "outputs": [
    {
     "name": "stdout",
     "output_type": "stream",
     "text": [
      "Model: \"sequential_1\"\n",
      "_________________________________________________________________\n",
      "Layer (type)                 Output Shape              Param #   \n",
      "=================================================================\n",
      "flatten_1 (Flatten)          (None, 784)               0         \n",
      "_________________________________________________________________\n",
      "dense_3 (Dense)              (None, 256)               200960    \n",
      "_________________________________________________________________\n",
      "dense_4 (Dense)              (None, 64)                16448     \n",
      "_________________________________________________________________\n",
      "dense_5 (Dense)              (None, 10)                650       \n",
      "=================================================================\n",
      "Total params: 218,058\n",
      "Trainable params: 218,058\n",
      "Non-trainable params: 0\n",
      "_________________________________________________________________\n",
      "None\n"
     ]
    }
   ],
   "source": [
    "print(model.summary())"
   ]
  },
  {
   "cell_type": "code",
   "execution_count": 46,
   "id": "placed-scoop",
   "metadata": {},
   "outputs": [],
   "source": [
    "callback = EarlyStopping(monitor='loss', patience=4)"
   ]
  },
  {
   "cell_type": "code",
   "execution_count": 47,
   "id": "collected-desktop",
   "metadata": {},
   "outputs": [
    {
     "name": "stdout",
     "output_type": "stream",
     "text": [
      "Train on 60000 samples, validate on 10000 samples\n",
      "Epoch 1/20\n",
      "60000/60000 - 7s - loss: 1.8214 - accuracy: 0.4486 - val_loss: 1.3172 - val_accuracy: 0.4457\n",
      "Epoch 2/20\n",
      "60000/60000 - 7s - loss: 1.2388 - accuracy: 0.4922 - val_loss: 1.1309 - val_accuracy: 0.5241\n",
      "Epoch 3/20\n",
      "60000/60000 - 7s - loss: 1.0131 - accuracy: 0.5775 - val_loss: 1.0767 - val_accuracy: 0.5919\n",
      "Epoch 4/20\n",
      "60000/60000 - 7s - loss: 0.8675 - accuracy: 0.6530 - val_loss: 0.7748 - val_accuracy: 0.7029\n",
      "Epoch 5/20\n",
      "60000/60000 - 7s - loss: 0.7189 - accuracy: 0.7167 - val_loss: 0.7024 - val_accuracy: 0.7285\n",
      "Epoch 6/20\n",
      "60000/60000 - 7s - loss: 0.6012 - accuracy: 0.7684 - val_loss: 0.6350 - val_accuracy: 0.7809\n",
      "Epoch 7/20\n",
      "60000/60000 - 7s - loss: 0.5425 - accuracy: 0.8027 - val_loss: 0.5676 - val_accuracy: 0.7856\n",
      "Epoch 8/20\n",
      "60000/60000 - 7s - loss: 0.5148 - accuracy: 0.8113 - val_loss: 0.5318 - val_accuracy: 0.8094\n",
      "Epoch 9/20\n",
      "60000/60000 - 7s - loss: 0.5129 - accuracy: 0.8154 - val_loss: 0.5685 - val_accuracy: 0.7966\n",
      "Epoch 10/20\n",
      "60000/60000 - 9s - loss: 0.4965 - accuracy: 0.8210 - val_loss: 0.5333 - val_accuracy: 0.8098\n",
      "Epoch 11/20\n",
      "60000/60000 - 10s - loss: 0.4845 - accuracy: 0.8237 - val_loss: 0.5984 - val_accuracy: 0.8069\n",
      "Epoch 12/20\n",
      "60000/60000 - 7s - loss: 0.4765 - accuracy: 0.8298 - val_loss: 0.5491 - val_accuracy: 0.8163\n",
      "Epoch 13/20\n",
      "60000/60000 - 7s - loss: 0.4566 - accuracy: 0.8491 - val_loss: 0.5110 - val_accuracy: 0.8375\n",
      "Epoch 14/20\n",
      "60000/60000 - 7s - loss: 0.4439 - accuracy: 0.8544 - val_loss: 0.5368 - val_accuracy: 0.8426\n",
      "Epoch 15/20\n",
      "60000/60000 - 7s - loss: 0.4414 - accuracy: 0.8561 - val_loss: 0.5155 - val_accuracy: 0.8369\n",
      "Epoch 16/20\n",
      "60000/60000 - 7s - loss: 0.4098 - accuracy: 0.8632 - val_loss: 0.5407 - val_accuracy: 0.8392\n",
      "Epoch 17/20\n",
      "60000/60000 - 7s - loss: 0.4121 - accuracy: 0.8643 - val_loss: 0.4862 - val_accuracy: 0.8447\n",
      "Epoch 18/20\n",
      "60000/60000 - 7s - loss: 0.4007 - accuracy: 0.8674 - val_loss: 0.5015 - val_accuracy: 0.8450\n",
      "Epoch 19/20\n",
      "60000/60000 - 7s - loss: 0.4014 - accuracy: 0.8673 - val_loss: 0.4936 - val_accuracy: 0.8508\n",
      "Epoch 20/20\n",
      "60000/60000 - 7s - loss: 0.3904 - accuracy: 0.8692 - val_loss: 0.4940 - val_accuracy: 0.8489\n"
     ]
    }
   ],
   "source": [
    "result = model.fit(x_train, y_train, \n",
    "                   validation_data=(x_test, y_test), \n",
    "                   epochs=20,\n",
    "                   batch_size=16, \n",
    "                   callbacks=[callback],\n",
    "                   verbose=2)"
   ]
  },
  {
   "cell_type": "code",
   "execution_count": 48,
   "id": "welsh-delaware",
   "metadata": {},
   "outputs": [
    {
     "data": {
      "text/plain": [
       "dict_keys(['loss', 'accuracy', 'val_loss', 'val_accuracy'])"
      ]
     },
     "execution_count": 48,
     "metadata": {},
     "output_type": "execute_result"
    }
   ],
   "source": [
    "result.history.keys()"
   ]
  },
  {
   "cell_type": "code",
   "execution_count": 49,
   "id": "established-winter",
   "metadata": {},
   "outputs": [
    {
     "data": {
      "text/plain": [
       "[<matplotlib.lines.Line2D at 0x2edae6e12b0>]"
      ]
     },
     "execution_count": 49,
     "metadata": {},
     "output_type": "execute_result"
    },
    {
     "data": {
      "image/png": "[encoded data removed]",
      "text/plain": [
       "<Figure size 432x288 with 1 Axes>"
      ]
     },
     "metadata": {
      "needs_background": "light"
     },
     "output_type": "display_data"
    }
   ],
   "source": [
    "plt.plot(result.history['loss'], label = 'loss')\n",
    "plt.plot(result.history['val_loss'], label = 'val_loss')"
   ]
  },
  {
   "cell_type": "code",
   "execution_count": 50,
   "id": "reflected-magazine",
   "metadata": {},
   "outputs": [
    {
     "name": "stdout",
     "output_type": "stream",
     "text": [
      "60000/60000 [==============================] - 2s 34us/sample - loss: 0.3717 - accuracy: 0.8728\n",
      "10000/10000 [==============================] - 0s 41us/sample - loss: 0.4940 - accuracy: 0.8489\n"
     ]
    },
    {
     "data": {
      "text/plain": [
       "[0.4940067654848099, 0.8489]"
      ]
     },
     "execution_count": 50,
     "metadata": {},
     "output_type": "execute_result"
    }
   ],
   "source": [
    "model.evaluate(x_train, y_train)\n",
    "model.evaluate(x_test, y_test)"
   ]
  },
  {
   "cell_type": "code",
   "execution_count": 59,
   "id": "expanded-pasta",
   "metadata": {},
   "outputs": [
    {
     "name": "stdout",
     "output_type": "stream",
     "text": [
      "(10000, 10)\n"
     ]
    }
   ],
   "source": [
    "y_pred = model.predict(x_test)\n",
    "print(y_pred.shape)"
   ]
  },
  {
   "cell_type": "code",
   "execution_count": 60,
   "id": "looking-console",
   "metadata": {},
   "outputs": [
    {
     "name": "stdout",
     "output_type": "stream",
     "text": [
      "(10000,)\n"
     ]
    }
   ],
   "source": [
    "y_pred = np.argmax(y_pred, axis = 1)\n",
    "print(y_pred.shape)"
   ]
  },
  {
   "cell_type": "code",
   "execution_count": 62,
   "id": "political-thing",
   "metadata": {},
   "outputs": [],
   "source": [
    "from sklearn.metrics import confusion_matrix"
   ]
  },
  {
   "cell_type": "code",
   "execution_count": 64,
   "id": "transsexual-horizon",
   "metadata": {},
   "outputs": [
    {
     "name": "stdout",
     "output_type": "stream",
     "text": [
      "[[853   3  25  18   2   1  95   0   3   0]\n",
      " [  0 963   1  14  11   0  10   0   1   0]\n",
      " [ 15   0 824   9  77   0  75   0   0   0]\n",
      " [ 38  18  22 821  36   0  63   0   2   0]\n",
      " [  0   0 150  31 669   0 149   0   1   0]\n",
      " [  0   0   4   0   0 915   5  54   2  20]\n",
      " [200   1 152  19  35   0 586   0   7   0]\n",
      " [  0   0   0   0   0   7   0 952   5  36]\n",
      " [  2   0  11   2   1   1  32   2 949   0]\n",
      " [  1   0   0   0   0   4   0  38   0 957]]\n"
     ]
    }
   ],
   "source": [
    "print(confusion_matrix(y_test, y_pred))"
   ]
  },
  {
   "cell_type": "markdown",
   "id": "affected-restaurant",
   "metadata": {},
   "source": [
    "## CNN with Keras"
   ]
  },
  {
   "cell_type": "code",
   "execution_count": 95,
   "id": "elementary-baptist",
   "metadata": {},
   "outputs": [
    {
     "data": {
      "text/plain": [
       "28"
      ]
     },
     "execution_count": 95,
     "metadata": {},
     "output_type": "execute_result"
    }
   ],
   "source": [
    "x_train.shape[1]"
   ]
  },
  {
   "cell_type": "code",
   "execution_count": 98,
   "id": "pressed-glucose",
   "metadata": {},
   "outputs": [
    {
     "name": "stdout",
     "output_type": "stream",
     "text": [
      "(60000, 28, 28, 1)\n",
      "(10000, 28, 28, 1)\n"
     ]
    }
   ],
   "source": [
    "x_train = x_train.reshape(x_train.shape[0], x_train.shape[1], x_train.shape[2], 1)\n",
    "x_test = x_test.reshape(x_test.shape[0], x_test.shape[1], x_test.shape[2], 1)\n",
    "print(x_train.shape)\n",
    "print(x_test.shape)"
   ]
  },
  {
   "cell_type": "code",
   "execution_count": 73,
   "id": "professional-bermuda",
   "metadata": {},
   "outputs": [
    {
     "name": "stdout",
     "output_type": "stream",
     "text": [
      "(60000, 1, 28, 28)\n",
      "(10000, 1, 28, 28)\n"
     ]
    }
   ],
   "source": [
    "# x_train = np.expand_dims(x_train,axis=1)\n",
    "# x_test = np.expand_dims(x_test,axis=1)\n",
    "# print(x_train.shape)\n",
    "# print(x_test.shape)"
   ]
  },
  {
   "cell_type": "code",
   "execution_count": 99,
   "id": "tested-method",
   "metadata": {},
   "outputs": [
    {
     "name": "stdout",
     "output_type": "stream",
     "text": [
      "(28, 28, 1)\n"
     ]
    }
   ],
   "source": [
    "input_shape = x_train[0].shape\n",
    "print(input_shape)"
   ]
  },
  {
   "cell_type": "code",
   "execution_count": 112,
   "id": "breathing-daughter",
   "metadata": {},
   "outputs": [],
   "source": [
    "model = Sequential()"
   ]
  },
  {
   "cell_type": "code",
   "execution_count": 113,
   "id": "thirty-arthur",
   "metadata": {},
   "outputs": [],
   "source": [
    "model.add(Conv2D(filters = 32, kernel_size=(3,3), input_shape = input_shape))\n",
    "model.add(MaxPooling2D(pool_size=(2,2)))\n",
    "model.add(Conv2D(filters = 64, kernel_size=(3,3)))\n",
    "model.add(MaxPooling2D(pool_size=(2,2)))\n",
    "model.add(Dropout(rate = 0.2))\n",
    "model.add(Flatten())\n",
    "model.add(Dense(254, activation='relu'))\n",
    "model.add(Dense(10, activation='softmax'))"
   ]
  },
  {
   "cell_type": "code",
   "execution_count": 114,
   "id": "human-billion",
   "metadata": {},
   "outputs": [],
   "source": [
    "model.compile(optimizer='adam',\n",
    "             loss = 'sparse_categorical_crossentropy',\n",
    "             metrics=['accuracy'])"
   ]
  },
  {
   "cell_type": "code",
   "execution_count": 115,
   "id": "visible-access",
   "metadata": {},
   "outputs": [
    {
     "name": "stdout",
     "output_type": "stream",
     "text": [
      "Model: \"sequential_6\"\n",
      "_________________________________________________________________\n",
      "Layer (type)                 Output Shape              Param #   \n",
      "=================================================================\n",
      "conv2d_9 (Conv2D)            (None, 26, 26, 32)        320       \n",
      "_________________________________________________________________\n",
      "max_pooling2d_4 (MaxPooling2 (None, 13, 13, 32)        0         \n",
      "_________________________________________________________________\n",
      "conv2d_10 (Conv2D)           (None, 11, 11, 64)        18496     \n",
      "_________________________________________________________________\n",
      "max_pooling2d_5 (MaxPooling2 (None, 5, 5, 64)          0         \n",
      "_________________________________________________________________\n",
      "dropout_2 (Dropout)          (None, 5, 5, 64)          0         \n",
      "_________________________________________________________________\n",
      "flatten_4 (Flatten)          (None, 1600)              0         \n",
      "_________________________________________________________________\n",
      "dense_8 (Dense)              (None, 254)               406654    \n",
      "_________________________________________________________________\n",
      "dense_9 (Dense)              (None, 10)                2550      \n",
      "=================================================================\n",
      "Total params: 428,020\n",
      "Trainable params: 428,020\n",
      "Non-trainable params: 0\n",
      "_________________________________________________________________\n",
      "None\n"
     ]
    }
   ],
   "source": [
    "print(model.summary())"
   ]
  },
  {
   "cell_type": "code",
   "execution_count": 116,
   "id": "reflected-living",
   "metadata": {},
   "outputs": [],
   "source": [
    "callback = EarlyStopping(monitor='loss', patience=4)"
   ]
  },
  {
   "cell_type": "code",
   "execution_count": 117,
   "id": "downtown-calculation",
   "metadata": {},
   "outputs": [
    {
     "name": "stdout",
     "output_type": "stream",
     "text": [
      "Train on 60000 samples, validate on 10000 samples\n",
      "Epoch 1/20\n",
      "60000/60000 - 35s - loss: 0.7291 - accuracy: 0.8118 - val_loss: 0.3930 - val_accuracy: 0.8578\n",
      "Epoch 2/20\n",
      "60000/60000 - 34s - loss: 0.4125 - accuracy: 0.8559 - val_loss: 0.4188 - val_accuracy: 0.8580\n",
      "Epoch 3/20\n",
      "60000/60000 - 33s - loss: 0.3955 - accuracy: 0.8643 - val_loss: 0.3776 - val_accuracy: 0.8737\n",
      "Epoch 4/20\n",
      "60000/60000 - 33s - loss: 0.3989 - accuracy: 0.8670 - val_loss: 0.3638 - val_accuracy: 0.8791\n",
      "Epoch 5/20\n",
      "60000/60000 - 34s - loss: 0.3679 - accuracy: 0.8763 - val_loss: 0.3984 - val_accuracy: 0.8711\n",
      "Epoch 6/20\n",
      "60000/60000 - 33s - loss: 0.3670 - accuracy: 0.8737 - val_loss: 0.4636 - val_accuracy: 0.8520\n",
      "Epoch 7/20\n",
      "60000/60000 - 33s - loss: 0.3621 - accuracy: 0.8788 - val_loss: 0.3514 - val_accuracy: 0.8852\n",
      "Epoch 8/20\n",
      "60000/60000 - 34s - loss: 0.3752 - accuracy: 0.8769 - val_loss: 0.3690 - val_accuracy: 0.8806\n",
      "Epoch 9/20\n",
      "60000/60000 - 36s - loss: 0.3657 - accuracy: 0.8806 - val_loss: 0.4516 - val_accuracy: 0.8612\n",
      "Epoch 10/20\n",
      "60000/60000 - 40s - loss: 0.3764 - accuracy: 0.8776 - val_loss: 0.4599 - val_accuracy: 0.8516\n",
      "Epoch 11/20\n",
      "60000/60000 - 41s - loss: 0.3765 - accuracy: 0.8796 - val_loss: 0.4181 - val_accuracy: 0.8721\n"
     ]
    }
   ],
   "source": [
    "result = model.fit(x_train, y_train, \n",
    "                   validation_data=(x_test, y_test), \n",
    "                   epochs=20,\n",
    "                   batch_size=16, \n",
    "                   callbacks=[callback],\n",
    "                   verbose=2)"
   ]
  },
  {
   "cell_type": "code",
   "execution_count": 118,
   "id": "distinguished-empire",
   "metadata": {},
   "outputs": [
    {
     "data": {
      "text/plain": [
       "[<matplotlib.lines.Line2D at 0x2edae6a3198>]"
      ]
     },
     "execution_count": 118,
     "metadata": {},
     "output_type": "execute_result"
    },
    {
     "data": {
      "image/png": "[encoded data removed]",
      "text/plain": [
       "<Figure size 432x288 with 1 Axes>"
      ]
     },
     "metadata": {
      "needs_background": "light"
     },
     "output_type": "display_data"
    }
   ],
   "source": [
    "plt.plot(result.history['loss'], label = 'loss')\n",
    "plt.plot(result.history['val_loss'], label = 'val_loss')"
   ]
  },
  {
   "cell_type": "code",
   "execution_count": 119,
   "id": "intended-circular",
   "metadata": {},
   "outputs": [
    {
     "name": "stdout",
     "output_type": "stream",
     "text": [
      "60000/60000 [==============================] - 8s 130us/sample - loss: 0.2976 - accuracy: 0.8968\n",
      "10000/10000 [==============================] - 1s 141us/sample - loss: 0.4181 - accuracy: 0.8721\n"
     ]
    },
    {
     "data": {
      "text/plain": [
       "[0.41811770985126495, 0.8721]"
      ]
     },
     "execution_count": 119,
     "metadata": {},
     "output_type": "execute_result"
    }
   ],
   "source": [
    "model.evaluate(x_train, y_train)\n",
    "model.evaluate(x_test, y_test)"
   ]
  },
  {
   "cell_type": "code",
   "execution_count": 120,
   "id": "imposed-state",
   "metadata": {},
   "outputs": [
    {
     "name": "stdout",
     "output_type": "stream",
     "text": [
      "(10000, 10)\n"
     ]
    }
   ],
   "source": [
    "y_pred = model.predict(x_test)\n",
    "print(y_pred.shape)\n"
   ]
  },
  {
   "cell_type": "code",
   "execution_count": 121,
   "id": "proof-calculator",
   "metadata": {},
   "outputs": [
    {
     "name": "stdout",
     "output_type": "stream",
     "text": [
      "(10000,)\n"
     ]
    }
   ],
   "source": [
    "y_pred = np.argmax(y_pred, axis = 1)\n",
    "print(y_pred.shape)"
   ]
  },
  {
   "cell_type": "code",
   "execution_count": 122,
   "id": "dated-twenty",
   "metadata": {},
   "outputs": [
    {
     "name": "stdout",
     "output_type": "stream",
     "text": [
      "[[685   1  38  20   0   0 254   0   2   0]\n",
      " [  1 962   2  17   2   0  14   0   2   0]\n",
      " [  3   0 850   7  19   0 120   0   1   0]\n",
      " [  6   2  12 878  17   0  85   0   0   0]\n",
      " [  0   0 114  31 697   0 158   0   0   0]\n",
      " [  0   0   0   1   0 968   6  18   1   6]\n",
      " [ 48   0  81  20  22   0 825   0   4   0]\n",
      " [  0   0   0   0   0  13   4 966   0  17]\n",
      " [  1   0   1   3   1   3  42   3 946   0]\n",
      " [  1   0   0   0   0  10   3  42   0 944]]\n"
     ]
    }
   ],
   "source": [
    "from sklearn.metrics import confusion_matrix\n",
    "\n",
    "print(confusion_matrix(y_test, y_pred))"
   ]
  },
  {
   "cell_type": "code",
   "execution_count": null,
   "id": "binary-india",
   "metadata": {},
   "outputs": [],
   "source": []
  }
 ],
 "metadata": {
  "kernelspec": {
   "display_name": "tf",
   "language": "python",
   "name": "tf"
  },
  "language_info": {
   "codemirror_mode": {
    "name": "ipython",
    "version": 3
   },
   "file_extension": ".py",
   "mimetype": "text/x-python",
   "name": "python",
   "nbconvert_exporter": "python",
   "pygments_lexer": "ipython3",
   "version": "3.6.13"
  },
  "toc": {
   "base_numbering": 1,
   "nav_menu": {},
   "number_sections": false,
   "sideBar": true,
   "skip_h1_title": true,
   "title_cell": "Table of Contents",
   "title_sidebar": "Contents",
   "toc_cell": false,
   "toc_position": {},
   "toc_section_display": true,
   "toc_window_display": true
  }
 },
 "nbformat": 4,
 "nbformat_minor": 5
}
